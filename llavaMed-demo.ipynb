{
 "cells": [
  {
   "cell_type": "markdown",
   "id": "718bac1e-7b0a-4fe6-b048-e09f3e1f7d4f",
   "metadata": {},
   "source": [
    "# LLaVA-Med++ Demo\n",
    "Enhancing Visual Instruction Tuning with LLaMA 3.1 "
   ]
  },
  {
   "cell_type": "markdown",
   "id": "06797b97-e283-4adf-a89e-88da055267ce",
   "metadata": {},
   "source": [
    "## Setup"
   ]
  },
  {
   "cell_type": "code",
   "execution_count": 4,
   "id": "a2aa71a6-82af-46cc-8214-86182c7ff668",
   "metadata": {
    "execution": {
     "iopub.execute_input": "2024-08-28T08:48:35.334424Z",
     "iopub.status.busy": "2024-08-28T08:48:35.333928Z",
     "iopub.status.idle": "2024-08-28T08:48:35.337125Z",
     "shell.execute_reply": "2024-08-28T08:48:35.336814Z",
     "shell.execute_reply.started": "2024-08-28T08:48:35.334403Z"
    }
   },
   "outputs": [],
   "source": [
    "## reduce logging\n",
    "import logging, sys\n",
    "logging.getLogger().setLevel(logging.CRITICAL)\n",
    "logging.disable(sys.maxsize)"
   ]
  },
  {
   "cell_type": "code",
   "execution_count": 33,
   "id": "88f7f360-5940-448e-9f89-cd6929b8b48b",
   "metadata": {
    "execution": {
     "iopub.execute_input": "2024-08-28T08:20:25.396441Z",
     "iopub.status.busy": "2024-08-28T08:20:25.395490Z",
     "iopub.status.idle": "2024-08-28T08:20:25.400027Z",
     "shell.execute_reply": "2024-08-28T08:20:25.399172Z",
     "shell.execute_reply.started": "2024-08-28T08:20:25.396405Z"
    }
   },
   "outputs": [],
   "source": [
    "#!conda env export --no-builds > environment.yml"
   ]
  },
  {
   "cell_type": "code",
   "execution_count": 2,
   "id": "342d107d-8eb7-4695-af67-1308fb91a044",
   "metadata": {
    "execution": {
     "iopub.execute_input": "2024-08-28T08:16:18.295555Z",
     "iopub.status.busy": "2024-08-28T08:16:18.295309Z",
     "iopub.status.idle": "2024-08-28T08:16:19.470602Z",
     "shell.execute_reply": "2024-08-28T08:16:19.470276Z",
     "shell.execute_reply.started": "2024-08-28T08:16:18.295536Z"
    }
   },
   "outputs": [
    {
     "data": {
      "text/plain": [
       "(True, 1, 0)"
      ]
     },
     "execution_count": 2,
     "metadata": {},
     "output_type": "execute_result"
    }
   ],
   "source": [
    "## fix warning\n",
    "## \"bash: /miniconda/envs/llava-more/lib/libtinfo.so.6: no version information available (required by bash)\"\n",
    "# conda install -c conda-forge ncurses\n",
    "\n",
    "# conda install pytorch==2.3.1 torchvision==0.18.1 torchaudio==2.3.1 pytorch-cuda=12.1 -c pytorch -c nvidia\n",
    "\n",
    "import torch\n",
    "torch.cuda.is_available(), torch.cuda.device_count(), torch.cuda.current_device()"
   ]
  },
  {
   "cell_type": "code",
   "execution_count": 3,
   "id": "1fd69662-a22e-4269-9da5-2ea04750601d",
   "metadata": {
    "execution": {
     "iopub.execute_input": "2024-08-28T08:16:19.471685Z",
     "iopub.status.busy": "2024-08-28T08:16:19.471593Z",
     "iopub.status.idle": "2024-08-28T08:16:19.473587Z",
     "shell.execute_reply": "2024-08-28T08:16:19.473294Z",
     "shell.execute_reply.started": "2024-08-28T08:16:19.471673Z"
    }
   },
   "outputs": [],
   "source": [
    "## fix widgets\n",
    "#!conda install -c conda-forge ipywidgets -y\n",
    "#!jupyter nbextension enable --py widgetsnbextension"
   ]
  },
  {
   "cell_type": "code",
   "execution_count": 4,
   "id": "b93483b4-d16e-4cd2-8087-ceb47a605244",
   "metadata": {
    "execution": {
     "iopub.execute_input": "2024-08-28T08:16:19.474937Z",
     "iopub.status.busy": "2024-08-28T08:16:19.474869Z",
     "iopub.status.idle": "2024-08-28T08:16:19.476537Z",
     "shell.execute_reply": "2024-08-28T08:16:19.476293Z",
     "shell.execute_reply.started": "2024-08-28T08:16:19.474927Z"
    }
   },
   "outputs": [],
   "source": [
    "# conda install pytorch==2.3.1 torchvision==0.18.1 torchaudio==2.3.1 pytorch-cuda=12.1 -c pytorch -c nvidia\n",
    "#!pip uninstall flash-attn -y\n",
    "#!pip install flash-attn --no-build-isolation\n",
    "#!pip install ipywidgets\n",
    "#!pip install transformers==4.44.2\n",
    "#!pip install scipy\n",
    "#!pip install python-dotenv\n",
    "\n",
    "#!pip install datasets\n",
    "#!pip install accelerate\n",
    "#!pip install git+https://github.com/bfshi/scaling_on_scales.git\n",
    "\n",
    "# from huggingface_hub import notebook_login\n",
    "# notebook_login()"
   ]
  },
  {
   "cell_type": "code",
   "execution_count": 5,
   "id": "ab548805-378c-4c75-a0b3-6a77353717f4",
   "metadata": {
    "execution": {
     "iopub.execute_input": "2024-08-28T08:16:19.476981Z",
     "iopub.status.busy": "2024-08-28T08:16:19.476907Z",
     "iopub.status.idle": "2024-08-28T08:16:19.606623Z",
     "shell.execute_reply": "2024-08-28T08:16:19.606260Z",
     "shell.execute_reply.started": "2024-08-28T08:16:19.476970Z"
    }
   },
   "outputs": [
    {
     "name": "stdout",
     "output_type": "stream",
     "text": [
      "nvcc: NVIDIA (R) Cuda compiler driver\n",
      "Copyright (c) 2005-2023 NVIDIA Corporation\n",
      "Built on Tue_Feb__7_19:32:13_PST_2023\n",
      "Cuda compilation tools, release 12.1, V12.1.66\n",
      "Build cuda_12.1.r12.1/compiler.32415258_0\n"
     ]
    }
   ],
   "source": [
    "!nvcc --version"
   ]
  },
  {
   "cell_type": "code",
   "execution_count": 6,
   "id": "5e2a13b8-0477-4780-87e1-72066f42ba86",
   "metadata": {
    "execution": {
     "iopub.execute_input": "2024-08-28T08:16:19.607335Z",
     "iopub.status.busy": "2024-08-28T08:16:19.607224Z",
     "iopub.status.idle": "2024-08-28T08:16:19.727905Z",
     "shell.execute_reply": "2024-08-28T08:16:19.727505Z",
     "shell.execute_reply.started": "2024-08-28T08:16:19.607320Z"
    }
   },
   "outputs": [
    {
     "name": "stdout",
     "output_type": "stream",
     "text": [
      "Python 3.10.14\n"
     ]
    }
   ],
   "source": [
    "!python --version"
   ]
  },
  {
   "cell_type": "code",
   "execution_count": 7,
   "id": "0801b6e0-513c-49a5-a19e-34f0a5f5bc17",
   "metadata": {
    "execution": {
     "iopub.execute_input": "2024-08-28T08:16:19.728457Z",
     "iopub.status.busy": "2024-08-28T08:16:19.728366Z",
     "iopub.status.idle": "2024-08-28T08:16:19.940967Z",
     "shell.execute_reply": "2024-08-28T08:16:19.940663Z",
     "shell.execute_reply.started": "2024-08-28T08:16:19.728437Z"
    }
   },
   "outputs": [
    {
     "name": "stdout",
     "output_type": "stream",
     "text": [
      "transformers =  4.44.2\n",
      "torch = 2.3.1\n"
     ]
    },
    {
     "name": "stderr",
     "output_type": "stream",
     "text": [
      "/miniconda/envs/llava-med++/lib/python3.10/site-packages/tqdm/auto.py:21: TqdmWarning: IProgress not found. Please update jupyter and ipywidgets. See https://ipywidgets.readthedocs.io/en/stable/user_install.html\n",
      "  from .autonotebook import tqdm as notebook_tqdm\n"
     ]
    }
   ],
   "source": [
    "import transformers\n",
    "print(\"transformers = \",transformers.__version__)\n",
    "import torch\n",
    "print (\"torch =\", torch.__version__)"
   ]
  },
  {
   "cell_type": "code",
   "execution_count": 8,
   "id": "3a382a66-4dff-4ecd-ad4d-3a996768ca67",
   "metadata": {
    "execution": {
     "iopub.execute_input": "2024-08-28T08:16:19.941443Z",
     "iopub.status.busy": "2024-08-28T08:16:19.941366Z",
     "iopub.status.idle": "2024-08-28T08:16:20.060836Z",
     "shell.execute_reply": "2024-08-28T08:16:20.060495Z",
     "shell.execute_reply.started": "2024-08-28T08:16:19.941431Z"
    }
   },
   "outputs": [
    {
     "name": "stdout",
     "output_type": "stream",
     "text": [
      "/home/pop/hosting/medical/MedTrinity-25M\n"
     ]
    }
   ],
   "source": [
    "!pwd"
   ]
  },
  {
   "cell_type": "code",
   "execution_count": 9,
   "id": "36b16b24-d85e-4d03-8edd-3f81577c5e21",
   "metadata": {
    "execution": {
     "iopub.execute_input": "2024-08-28T08:16:20.061459Z",
     "iopub.status.busy": "2024-08-28T08:16:20.061366Z",
     "iopub.status.idle": "2024-08-28T08:16:20.069391Z",
     "shell.execute_reply": "2024-08-28T08:16:20.068927Z",
     "shell.execute_reply.started": "2024-08-28T08:16:20.061440Z"
    }
   },
   "outputs": [],
   "source": [
    "%load_ext dotenv\n",
    "%dotenv"
   ]
  },
  {
   "cell_type": "markdown",
   "id": "0bcc86e7-be20-4aa0-9463-99a39fbc84f9",
   "metadata": {},
   "source": [
    "## Evaluation"
   ]
  },
  {
   "cell_type": "code",
   "execution_count": 2,
   "id": "59f3af15-89ee-4850-9edc-f9f610b6146f",
   "metadata": {
    "execution": {
     "iopub.execute_input": "2024-08-28T08:47:30.954187Z",
     "iopub.status.busy": "2024-08-28T08:47:30.953968Z",
     "iopub.status.idle": "2024-08-28T08:47:32.901380Z",
     "shell.execute_reply": "2024-08-28T08:47:32.900722Z",
     "shell.execute_reply.started": "2024-08-28T08:47:30.954174Z"
    }
   },
   "outputs": [
    {
     "name": "stderr",
     "output_type": "stream",
     "text": [
      "/miniconda/envs/llava-med++/lib/python3.10/site-packages/tqdm/auto.py:21: TqdmWarning: IProgress not found. Please update jupyter and ipywidgets. See https://ipywidgets.readthedocs.io/en/stable/user_install.html\n",
      "  from .autonotebook import tqdm as notebook_tqdm\n"
     ]
    }
   ],
   "source": [
    "##%tb\n",
    "import argparse\n",
    "import torch\n",
    "import requests\n",
    "from PIL import Image\n",
    "from io import BytesIO\n",
    "import re\n",
    "\n",
    "from llava.constants import (\n",
    "    IMAGE_TOKEN_INDEX,\n",
    "    DEFAULT_IMAGE_TOKEN,\n",
    "    DEFAULT_IM_START_TOKEN,\n",
    "    DEFAULT_IM_END_TOKEN,\n",
    "    IMAGE_PLACEHOLDER,\n",
    ")\n",
    "from llava.conversation import conv_templates, SeparatorStyle\n",
    "from llava.model.builder import load_pretrained_model\n",
    "from llava.utils import disable_torch_init\n",
    "from llava.mm_utils import (\n",
    "    process_images,\n",
    "    tokenizer_image_token,\n",
    "    get_model_name_from_path,\n",
    ")\n",
    "\n",
    "def image_parser(args):\n",
    "    out = args.image_file.split(args.sep)\n",
    "    return out\n",
    "\n",
    "\n",
    "def load_image(image_file):\n",
    "    if image_file.startswith(\"http\") or image_file.startswith(\"https\"):\n",
    "        response = requests.get(image_file)\n",
    "        image = Image.open(BytesIO(response.content)).convert(\"RGB\")\n",
    "    else:\n",
    "        image = Image.open(image_file).convert(\"RGB\")\n",
    "    return image\n",
    "\n",
    "\n",
    "def load_images(image_files):\n",
    "    out = []\n",
    "    for image_file in image_files:\n",
    "        image = load_image(image_file)\n",
    "        out.append(image)\n",
    "    return out\n",
    "\n",
    "def eval_model(args):\n",
    "    # Model\n",
    "    disable_torch_init()\n",
    "\n",
    "    model_name = get_model_name_from_path(args.model_path)\n",
    "    model_name= 'llava'\n",
    "\n",
    "    tokenizer, model, image_processor, context_len = load_pretrained_model(\n",
    "        args.model_path, args.model_base, model_name, load_8bit=False\n",
    "    )\n",
    "    #print(model.config)\n",
    "    \n",
    "    qs = args.query\n",
    "    image_token_se = DEFAULT_IM_START_TOKEN + DEFAULT_IMAGE_TOKEN + DEFAULT_IM_END_TOKEN\n",
    "    if IMAGE_PLACEHOLDER in qs:\n",
    "        if model.config.mm_use_im_start_end:\n",
    "            qs = re.sub(IMAGE_PLACEHOLDER, image_token_se, qs)\n",
    "        else:\n",
    "            qs = re.sub(IMAGE_PLACEHOLDER, DEFAULT_IMAGE_TOKEN, qs)\n",
    "    else:\n",
    "        if model.config.mm_use_im_start_end:\n",
    "            qs = image_token_se + \"\\n\" + qs\n",
    "        else:\n",
    "            qs = DEFAULT_IMAGE_TOKEN + \"\\n\" + qs\n",
    "\n",
    "    if \"llama-2\" in model_name.lower():\n",
    "        conv_mode = \"llava_llama_2\"\n",
    "    elif \"mistral\" in model_name.lower():\n",
    "        conv_mode = \"mistral_instruct\"\n",
    "    elif \"v1.6-34b\" in model_name.lower():\n",
    "        conv_mode = \"chatml_direct\"\n",
    "    elif \"v1\" in model_name.lower():\n",
    "        conv_mode = \"llava_v1\"\n",
    "    elif \"mpt\" in model_name.lower():\n",
    "        conv_mode = \"mpt\"\n",
    "    else:\n",
    "        conv_mode = \"llava_v0\"\n",
    "\n",
    "    if args.conv_mode is not None and conv_mode != args.conv_mode:\n",
    "        print(\n",
    "            \"[WARNING] the auto inferred conversation mode is {}, while `--conv-mode` is {}, using {}\".format(\n",
    "                conv_mode, args.conv_mode, args.conv_mode\n",
    "            )\n",
    "        )\n",
    "    else:\n",
    "        args.conv_mode = conv_mode\n",
    "    \n",
    "    conv = conv_templates[args.conv_mode].copy()\n",
    "    conv.append_message(conv.roles[0], qs)\n",
    "    conv.append_message(conv.roles[1], None)\n",
    "    prompt = conv.get_prompt()\n",
    "    conv.tokenizer = tokenizer\n",
    "\n",
    "    image_files = image_parser(args)\n",
    "    images = load_images(image_files)\n",
    "    image_sizes = [x.size for x in images]\n",
    "    images_tensor = process_images(\n",
    "        images,\n",
    "        image_processor,\n",
    "        model.config\n",
    "    ).to(model.device, dtype=torch.float16)\n",
    "\n",
    "    input_ids = (\n",
    "        tokenizer_image_token(prompt, tokenizer, IMAGE_TOKEN_INDEX, return_tensors=\"pt\")\n",
    "        .unsqueeze(0)\n",
    "        .cuda()\n",
    "    )\n",
    "\n",
    "    with torch.inference_mode():\n",
    "        output_ids = model.generate(\n",
    "            input_ids,\n",
    "            images=images_tensor,\n",
    "            image_sizes=image_sizes,\n",
    "            do_sample=True if args.temperature > 0 else False,\n",
    "            temperature=args.temperature,\n",
    "            top_p=args.top_p,\n",
    "            num_beams=args.num_beams,\n",
    "            max_new_tokens=args.max_new_tokens,\n",
    "            use_cache=True,\n",
    "        )\n",
    "\n",
    "    outputs = tokenizer.batch_decode(output_ids, skip_special_tokens=True)[0].strip()\n",
    "    #print(outputs)\n",
    "    return outputs"
   ]
  },
  {
   "cell_type": "markdown",
   "id": "963a02ee-4586-41dc-9499-b0a52938eccd",
   "metadata": {},
   "source": [
    "## demo dataset"
   ]
  },
  {
   "cell_type": "code",
   "execution_count": 11,
   "id": "18473ac8-aea9-4aae-bead-6b4c9c8b86b9",
   "metadata": {
    "execution": {
     "iopub.execute_input": "2024-08-28T08:16:21.912149Z",
     "iopub.status.busy": "2024-08-28T08:16:21.912056Z",
     "iopub.status.idle": "2024-08-28T08:16:23.861634Z",
     "shell.execute_reply": "2024-08-28T08:16:23.861093Z",
     "shell.execute_reply.started": "2024-08-28T08:16:21.912131Z"
    }
   },
   "outputs": [
    {
     "data": {
      "text/plain": [
       "DatasetDict({\n",
       "    train: Dataset({\n",
       "        features: ['image', 'id', 'caption'],\n",
       "        num_rows: 161630\n",
       "    })\n",
       "})"
      ]
     },
     "execution_count": 11,
     "metadata": {},
     "output_type": "execute_result"
    }
   ],
   "source": [
    "from datasets import load_dataset\n",
    "\n",
    "ds = load_dataset(\"UCSC-VLAA/MedTrinity-25M\", \"25M_demo\")\n",
    "ds"
   ]
  },
  {
   "cell_type": "code",
   "execution_count": 12,
   "id": "fa5ca82a-2c99-40de-aadb-4e4c9ee0959f",
   "metadata": {
    "execution": {
     "iopub.execute_input": "2024-08-28T08:16:23.862846Z",
     "iopub.status.busy": "2024-08-28T08:16:23.862455Z",
     "iopub.status.idle": "2024-08-28T08:16:23.874506Z",
     "shell.execute_reply": "2024-08-28T08:16:23.874248Z",
     "shell.execute_reply.started": "2024-08-28T08:16:23.862821Z"
    }
   },
   "outputs": [
    {
     "data": {
      "text/plain": [
       "'80306b2e-1b5c-11ef-af70-000066532cad'"
      ]
     },
     "execution_count": 12,
     "metadata": {},
     "output_type": "execute_result"
    }
   ],
   "source": [
    "ds[\"train\"][2000]['id']"
   ]
  },
  {
   "cell_type": "code",
   "execution_count": 13,
   "id": "464ea787-e26f-4bef-a56f-9546c228f371",
   "metadata": {
    "execution": {
     "iopub.execute_input": "2024-08-28T08:16:23.874943Z",
     "iopub.status.busy": "2024-08-28T08:16:23.874868Z",
     "iopub.status.idle": "2024-08-28T08:16:23.879123Z",
     "shell.execute_reply": "2024-08-28T08:16:23.878860Z",
     "shell.execute_reply.started": "2024-08-28T08:16:23.874933Z"
    }
   },
   "outputs": [
    {
     "data": {
      "text/plain": [
       "\"The image is a non-contrast computed tomography (CT) scan of the brain, showing the cerebral structures without the use of contrast media. The region of interest, located centrally and in the lower-middle area of the brain, occupies approximately 0.5% of the image area and is indicative of an intracranial hemorrhage. This region appears denser than the surrounding brain tissue, which is a characteristic feature of acute hemorrhage on CT imaging. The location of the hemorrhage could potentially affect nearby brain structures due to mass effect or increased intracranial pressure, although the image does not provide evidence of such complications. The hemorrhage's proximity to critical brain areas suggests a possible impact on the patient's neurological function.\""
      ]
     },
     "execution_count": 13,
     "metadata": {},
     "output_type": "execute_result"
    }
   ],
   "source": [
    "ds[\"train\"][2000]['caption']"
   ]
  },
  {
   "cell_type": "code",
   "execution_count": 14,
   "id": "0f721efe-80e6-41b5-aaa2-70942a7e9c4f",
   "metadata": {
    "execution": {
     "iopub.execute_input": "2024-08-28T08:16:23.879560Z",
     "iopub.status.busy": "2024-08-28T08:16:23.879486Z",
     "iopub.status.idle": "2024-08-28T08:16:23.898060Z",
     "shell.execute_reply": "2024-08-28T08:16:23.897784Z",
     "shell.execute_reply.started": "2024-08-28T08:16:23.879549Z"
    }
   },
   "outputs": [
    {
     "data": {
      "image/jpeg": "[encoded data removed]",
      "image/png": "[encoded data removed]",
      "text/plain": [
       "<PIL.JpegImagePlugin.JpegImageFile image mode=RGB size=512x512>"
      ]
     },
     "execution_count": 14,
     "metadata": {},
     "output_type": "execute_result"
    }
   ],
   "source": [
    "im=ds[\"train\"][2000]['image']\n",
    "im"
   ]
  },
  {
   "cell_type": "code",
   "execution_count": 15,
   "id": "aa90dae9-96a9-40a1-8d30-23cb00414a31",
   "metadata": {
    "execution": {
     "iopub.execute_input": "2024-08-28T08:16:23.898570Z",
     "iopub.status.busy": "2024-08-28T08:16:23.898482Z",
     "iopub.status.idle": "2024-08-28T08:16:23.922657Z",
     "shell.execute_reply": "2024-08-28T08:16:23.922377Z",
     "shell.execute_reply.started": "2024-08-28T08:16:23.898557Z"
    }
   },
   "outputs": [],
   "source": [
    "# save a image using extension\n",
    "#out_im = Image.fromarray(im)\n",
    "im.save('med_test_2000.png')"
   ]
  },
  {
   "cell_type": "code",
   "execution_count": null,
   "id": "c6a3942e-abe7-4b2a-8ed8-f3ccffff050e",
   "metadata": {},
   "outputs": [],
   "source": []
  },
  {
   "cell_type": "markdown",
   "id": "132537b5-909a-434f-b382-a66735aeda21",
   "metadata": {},
   "source": [
    "## Test-1 VGA RAD"
   ]
  },
  {
   "cell_type": "code",
   "execution_count": 16,
   "id": "224d53fc-779b-4cae-a263-fb56397ec178",
   "metadata": {
    "execution": {
     "iopub.execute_input": "2024-08-28T08:16:23.923078Z",
     "iopub.status.busy": "2024-08-28T08:16:23.923004Z",
     "iopub.status.idle": "2024-08-28T08:16:23.926144Z",
     "shell.execute_reply": "2024-08-28T08:16:23.925845Z",
     "shell.execute_reply.started": "2024-08-28T08:16:23.923067Z"
    }
   },
   "outputs": [
    {
     "name": "stderr",
     "output_type": "stream",
     "text": [
      "/tmp/ipykernel_153409/4283171320.py:5: DeprecationWarning: Importing display from IPython.core.display is deprecated since IPython 7.14, please import from IPython display\n",
      "  from IPython.core.display import Image, display\n"
     ]
    },
    {
     "data": {
      "text/html": [
       "<img src=\"https://prod-images-static.radiopaedia.org/images/566180/d527ff6fc1482161c9225345c4ab42_big_gallery.jpg\" width=\"600\" height=\"100\" class=\"unconfined\"/>"
      ],
      "text/plain": [
       "<IPython.core.display.Image object>"
      ]
     },
     "metadata": {},
     "output_type": "display_data"
    }
   ],
   "source": [
    "from IPython.display import display\n",
    "path=\"https://prod-images-static.radiopaedia.org/images/566180/d527ff6fc1482161c9225345c4ab42_big_gallery.jpg\"\n",
    "#display(Image.open(path))\n",
    "#Image(url= path, width=100, height=100)\n",
    "from IPython.core.display import Image, display\n",
    "display(Image(url=path, width=600, height=100, unconfined=True))"
   ]
  },
  {
   "cell_type": "code",
   "execution_count": 17,
   "id": "a88b334a-3fd9-4c5f-b8e0-f8b7db427010",
   "metadata": {
    "execution": {
     "iopub.execute_input": "2024-08-28T08:16:23.926581Z",
     "iopub.status.busy": "2024-08-28T08:16:23.926506Z",
     "iopub.status.idle": "2024-08-28T08:16:34.551040Z",
     "shell.execute_reply": "2024-08-28T08:16:34.550545Z",
     "shell.execute_reply.started": "2024-08-28T08:16:23.926570Z"
    }
   },
   "outputs": [
    {
     "name": "stdout",
     "output_type": "stream",
     "text": [
      "conversation mode: llama3\n",
      "model name: /home/pop/hosting/medical/med-model/llava-llama-med-8b-stage2-finetuned-vga_rad_orift\n",
      "vision_tower openai/clip-vit-large-patch14-336, is_absolute_path_exists: False, load_delay: True\n",
      "delay load: True\n",
      "delay load and just load the config, is_loaded: False\n"
     ]
    },
    {
     "name": "stderr",
     "output_type": "stream",
     "text": [
      "Loading checkpoint shards: 100%|█████████████████████████████████████████████████████████████████████████████████████████████████| 4/4 [00:07<00:00,  1.98s/it]\n"
     ]
    },
    {
     "name": "stdout",
     "output_type": "stream",
     "text": [
      "Adding pad token as '<pad>'\n",
      "tokenizer's pad token id is:  128256\n",
      "[WARNING] the auto inferred conversation mode is llava_v0, while `--conv-mode` is llama3, using llama3\n",
      "CPU times: user 23.3 s, sys: 21.3 s, total: 44.6 s\n",
      "Wall time: 10.6 s\n"
     ]
    }
   ],
   "source": [
    "%%time\n",
    "from dataclasses import dataclass\n",
    "from PIL import Image\n",
    "\n",
    "@dataclass\n",
    "class Inputs():\n",
    "    model_path: str = \"/home/pop/hosting/medical/med-model/llava-llama-med-8b-stage2-finetuned-vga_rad_orift\"    \n",
    "    #model_path: str = \"/home/pop/hosting/medical/med-model/llava-llama-med-8b-stage2-finetuned-vga_rad_orift_20240817\"\n",
    "    model_base: int = None\n",
    "    image_file:str = \"https://prod-images-static.radiopaedia.org/images/566180/d527ff6fc1482161c9225345c4ab42_big_gallery.jpg\"\n",
    "    query: str = \"What Do Chest X-Rays Show?\"\n",
    "    conv_mode: str = \"llama3\"\n",
    "    sep: str = \",\"\n",
    "    temperature: float = 1.0\n",
    "    top_p:int = 3\n",
    "    num_beams: int = 3\n",
    "    max_new_tokens: int = 256\n",
    "    \n",
    "args = Inputs()\n",
    "print(f\"conversation mode: {args.conv_mode}\")\n",
    "print(f\"model name: {args.model_path}\")\n",
    "    \n",
    "result = eval_model(args)"
   ]
  },
  {
   "cell_type": "code",
   "execution_count": 18,
   "id": "583044a4-f182-46c6-8869-1e87a46105d6",
   "metadata": {
    "execution": {
     "iopub.execute_input": "2024-08-28T08:16:34.551673Z",
     "iopub.status.busy": "2024-08-28T08:16:34.551589Z",
     "iopub.status.idle": "2024-08-28T08:16:34.554356Z",
     "shell.execute_reply": "2024-08-28T08:16:34.554017Z",
     "shell.execute_reply.started": "2024-08-28T08:16:34.551661Z"
    }
   },
   "outputs": [
    {
     "data": {
      "text/plain": [
       "'cardiomegaly'"
      ]
     },
     "execution_count": 18,
     "metadata": {},
     "output_type": "execute_result"
    }
   ],
   "source": [
    "result"
   ]
  },
  {
   "cell_type": "code",
   "execution_count": null,
   "id": "39528ef9-0461-474d-99c3-fe10d2b967b3",
   "metadata": {},
   "outputs": [],
   "source": []
  },
  {
   "cell_type": "markdown",
   "id": "69ba4f4e-b574-46ed-805e-df3d098cafce",
   "metadata": {},
   "source": [
    "## Test-2 PathVGA"
   ]
  },
  {
   "cell_type": "code",
   "execution_count": 19,
   "id": "210bc188-02a2-423d-aebe-f4da462a4437",
   "metadata": {
    "execution": {
     "iopub.execute_input": "2024-08-28T08:16:34.554830Z",
     "iopub.status.busy": "2024-08-28T08:16:34.554759Z",
     "iopub.status.idle": "2024-08-28T08:16:56.278332Z",
     "shell.execute_reply": "2024-08-28T08:16:56.277828Z",
     "shell.execute_reply.started": "2024-08-28T08:16:34.554820Z"
    }
   },
   "outputs": [
    {
     "name": "stdout",
     "output_type": "stream",
     "text": [
      "conversation mode: llama3\n",
      "model name: /home/pop/hosting/medical/med-model/llava-llama-med-8b-stage2-finetune-pathvqa_orift/\n",
      "vision_tower openai/clip-vit-large-patch14-336, is_absolute_path_exists: False, load_delay: True\n",
      "delay load: True\n",
      "delay load and just load the config, is_loaded: False\n"
     ]
    },
    {
     "name": "stderr",
     "output_type": "stream",
     "text": [
      "Loading checkpoint shards: 100%|█████████████████████████████████████████████████████████████████████████████████████████████████| 4/4 [00:07<00:00,  1.78s/it]\n"
     ]
    },
    {
     "name": "stdout",
     "output_type": "stream",
     "text": [
      "Adding pad token as '<pad>'\n",
      "tokenizer's pad token id is:  128256\n",
      "[WARNING] the auto inferred conversation mode is llava_v0, while `--conv-mode` is llama3, using llama3\n",
      "CPU times: user 25.3 s, sys: 21.4 s, total: 46.8 s\n",
      "Wall time: 21.7 s\n"
     ]
    }
   ],
   "source": [
    "%%time\n",
    "from dataclasses import dataclass\n",
    "from PIL import Image\n",
    "\n",
    "@dataclass\n",
    "class Inputs():\n",
    "    model_path: str = \"/home/pop/hosting/medical/med-model/llava-llama-med-8b-stage2-finetune-pathvqa_orift/\"    \n",
    "    #model_path: str = \"/home/pop/hosting/medical/med-model/llava-llama-med-8b-stage2-finetuned-vga_rad_orift_20240817\"\n",
    "    model_base: int = None\n",
    "    image_file:str = \"https://prod-images-static.radiopaedia.org/images/566180/d527ff6fc1482161c9225345c4ab42_big_gallery.jpg\"    \n",
    "    query: str = \"What Do Chest X-Rays Show?\"\n",
    "    conv_mode: str = \"llama3\"\n",
    "    sep: str = \",\"\n",
    "    temperature: float = 1.0\n",
    "    top_p:int = 3\n",
    "    num_beams: int = 3\n",
    "    max_new_tokens: int = 256\n",
    "    \n",
    "args = Inputs()\n",
    "print(f\"conversation mode: {args.conv_mode}\")\n",
    "print(f\"model name: {args.model_path}\")\n",
    "result = eval_model(args)"
   ]
  },
  {
   "cell_type": "code",
   "execution_count": 20,
   "id": "e8b7d91c-0e47-438a-9c4c-b58c6f2cd611",
   "metadata": {
    "execution": {
     "iopub.execute_input": "2024-08-28T08:16:56.278969Z",
     "iopub.status.busy": "2024-08-28T08:16:56.278878Z",
     "iopub.status.idle": "2024-08-28T08:16:56.281716Z",
     "shell.execute_reply": "2024-08-28T08:16:56.281372Z",
     "shell.execute_reply.started": "2024-08-28T08:16:56.278956Z"
    }
   },
   "outputs": [
    {
     "data": {
      "text/plain": [
       "'aorta not opened surrounded by large nodes'"
      ]
     },
     "execution_count": 20,
     "metadata": {},
     "output_type": "execute_result"
    }
   ],
   "source": [
    "result"
   ]
  },
  {
   "cell_type": "markdown",
   "id": "e368e39b-6e62-4cdd-8bfc-3ff82063e64c",
   "metadata": {},
   "source": [
    "## Test-3 Captioner"
   ]
  },
  {
   "cell_type": "code",
   "execution_count": 21,
   "id": "09898a03-cc10-4617-aa46-761e2d6d3f98",
   "metadata": {
    "execution": {
     "iopub.execute_input": "2024-08-28T08:16:56.282151Z",
     "iopub.status.busy": "2024-08-28T08:16:56.282069Z",
     "iopub.status.idle": "2024-08-28T08:17:17.098346Z",
     "shell.execute_reply": "2024-08-28T08:17:17.097928Z",
     "shell.execute_reply.started": "2024-08-28T08:16:56.282141Z"
    }
   },
   "outputs": [
    {
     "name": "stdout",
     "output_type": "stream",
     "text": [
      "conversation mode: llama3\n",
      "model name: /home/pop/hosting/medical/med-model/LLaVA-Med-Captioner/llava-llama-med-8b-captioner\n",
      "vision_tower openai/clip-vit-large-patch14-336, is_absolute_path_exists: False, load_delay: True\n",
      "delay load: True\n",
      "delay load and just load the config, is_loaded: False\n"
     ]
    },
    {
     "name": "stderr",
     "output_type": "stream",
     "text": [
      "Loading checkpoint shards: 100%|█████████████████████████████████████████████████████████████████████████████████████████████████| 4/4 [00:08<00:00,  2.25s/it]\n"
     ]
    },
    {
     "name": "stdout",
     "output_type": "stream",
     "text": [
      "Adding pad token as '<pad>'\n",
      "tokenizer's pad token id is:  128256\n",
      "[WARNING] the auto inferred conversation mode is llava_v0, while `--conv-mode` is llama3, using llama3\n",
      "CPU times: user 32.4 s, sys: 20.3 s, total: 52.7 s\n",
      "Wall time: 20.8 s\n"
     ]
    }
   ],
   "source": [
    "%%time\n",
    "from dataclasses import dataclass\n",
    "from PIL import Image\n",
    "\n",
    "@dataclass\n",
    "class Inputs():\n",
    "    model_path: str = \"/home/pop/hosting/medical/med-model/LLaVA-Med-Captioner/llava-llama-med-8b-captioner\"    \n",
    "    #model_path: str = \"/home/pop/hosting/medical/med-model/llava-llama-med-8b-stage2-finetuned-vga_rad_orift_20240817\"\n",
    "    model_base: int = None\n",
    "    image_file:str = \"https://prod-images-static.radiopaedia.org/images/566180/d527ff6fc1482161c9225345c4ab42_big_gallery.jpg\"    \n",
    "    #image_file:str = \"https://media.springernature.com/full/springer-static/image/art%3A10.1038%2Fs41598-022-27266-9/MediaObjects/41598_2022_27266_Fig1_HTML.png\"\n",
    "    #image_file: str = \"med_test_2000.png\"    \n",
    "    query: str = \"Give me detailed description of the image, based on coarse caption, lesion region, medical knowledge\"\n",
    "    #query: str = \"What is abnormal show in the X-Ray?\"    \n",
    "    conv_mode: str = \"llama3\"\n",
    "    sep: str = \",\"\n",
    "    temperature: float = 1.0\n",
    "    top_p:int = None\n",
    "    num_beams: int = 3\n",
    "    max_new_tokens: int = 1024\n",
    "    \n",
    "args = Inputs()\n",
    "print(f\"conversation mode: {args.conv_mode}\")\n",
    "print(f\"model name: {args.model_path}\")\n",
    "    \n",
    "result=eval_model(args)"
   ]
  },
  {
   "cell_type": "code",
   "execution_count": 22,
   "id": "69c36606-ee7b-4fd9-bd60-468eca4bfffc",
   "metadata": {
    "execution": {
     "iopub.execute_input": "2024-08-28T08:17:17.099098Z",
     "iopub.status.busy": "2024-08-28T08:17:17.098937Z",
     "iopub.status.idle": "2024-08-28T08:17:17.101679Z",
     "shell.execute_reply": "2024-08-28T08:17:17.101394Z",
     "shell.execute_reply.started": "2024-08-28T08:17:17.099083Z"
    }
   },
   "outputs": [
    {
     "data": {
      "text/plain": [
       "\"The image is a chest X-ray showing the thoracic cavity, including the lungs, heart, and the bony structures such as the ribs and the spine. A region of interest is located at left part of the image horizontally and middle part of image vertically, occupying approximately 18.5% of the total area. The lungs are the primary organs visible, with the heart situated centrally between them. The left lung is on the right side of the image, and the right lung is on the left side due to the perspective of the X-ray. There are no medical devices visible in the image.\\n\\nThe region of interest is located in the left lung, which is on the right side of the image from the viewer's perspective. This area shows an abnormal texture and possibly a difference in density compared to the surrounding lung tissue, which may indicate a lesion or other pathological change.\\n\\nThe abnormal area within the region of interest could be related to the surrounding lung tissue in terms of pathology, as diseases of the lung can often affect adjacent areas or be a localized manifestation of a more widespread condition. The proximity to the heart and the rest of the lung tissue suggests that the pathology could have implications for the function of these adjacent structures.\\n\\nCombining the information, the chest X-ray reveals an abnormal area in the left lung, which is situated on the right side of the image. This area exhibits an unusual texture and density, suggesting a lesion or other pathological change that could potentially impact the function of adjacent lung tissue and the heart.\""
      ]
     },
     "execution_count": 22,
     "metadata": {},
     "output_type": "execute_result"
    }
   ],
   "source": [
    "result"
   ]
  },
  {
   "cell_type": "markdown",
   "id": "6cdf16d2-375f-40c5-a499-79213667839a",
   "metadata": {},
   "source": [
    "## Test 4 Slake\n",
    "https://www.topdoctors.co.uk/medical-dictionary/pneumonia"
   ]
  },
  {
   "cell_type": "code",
   "execution_count": 23,
   "id": "357826ff-f0dd-48a1-99df-f5be45d6bf70",
   "metadata": {
    "execution": {
     "iopub.execute_input": "2024-08-28T08:17:17.102107Z",
     "iopub.status.busy": "2024-08-28T08:17:17.102035Z",
     "iopub.status.idle": "2024-08-28T08:17:31.263362Z",
     "shell.execute_reply": "2024-08-28T08:17:31.262853Z",
     "shell.execute_reply.started": "2024-08-28T08:17:17.102096Z"
    }
   },
   "outputs": [
    {
     "name": "stdout",
     "output_type": "stream",
     "text": [
      "conversation mode: llama3\n",
      "model name: /home/pop/hosting/medical/med-model/llava-llama-med-8b-stage2-finetune-slake_orift\n",
      "vision_tower openai/clip-vit-large-patch14-336, is_absolute_path_exists: False, load_delay: True\n",
      "delay load: True\n",
      "delay load and just load the config, is_loaded: False\n"
     ]
    },
    {
     "name": "stderr",
     "output_type": "stream",
     "text": [
      "Loading checkpoint shards: 100%|█████████████████████████████████████████████████████████████████████████████████████████████████| 4/4 [00:06<00:00,  1.73s/it]\n"
     ]
    },
    {
     "name": "stdout",
     "output_type": "stream",
     "text": [
      "Adding pad token as '<pad>'\n",
      "tokenizer's pad token id is:  128256\n",
      "[WARNING] the auto inferred conversation mode is llava_v0, while `--conv-mode` is llama3, using llama3\n",
      "CPU times: user 18.3 s, sys: 28.9 s, total: 47.2 s\n",
      "Wall time: 14.2 s\n"
     ]
    }
   ],
   "source": [
    "%%time\n",
    "from dataclasses import dataclass\n",
    "from PIL import Image\n",
    "\n",
    "@dataclass\n",
    "class Inputs():\n",
    "    #model_path: str = \"/home/pop/hosting/medical/med-model/LLaVA-Med-Captioner/llava-llama-med-8b-captioner\"    \n",
    "    model_path: str = \"/home/pop/hosting/medical/med-model/llava-llama-med-8b-stage2-finetune-slake_orift\"\n",
    "    model_base: int = None\n",
    "    image_file:str = \"https://www.topdoctors.co.uk/files/Image/large/5a536fd0-0d70-4b1d-be00-3c8e25bbab96.jpg\"\n",
    "    #image_file: str = \"med_test_2000.png\"    \n",
    "    #query: str = \"What Do Chest X-Rays Show?\"\n",
    "    query: str = \"Anything abnormal in the Chest X-Ray?\"    \n",
    "    conv_mode: str = \"llama3\"\n",
    "    sep: str = \",\"\n",
    "    temperature: float = 1.0\n",
    "    top_p:int = 3\n",
    "    num_beams: int = 3\n",
    "    max_new_tokens: int = 256\n",
    "    \n",
    "args = Inputs()\n",
    "print(f\"conversation mode: {args.conv_mode}\")\n",
    "print(f\"model name: {args.model_path}\")\n",
    "    \n",
    "result=eval_model(args)"
   ]
  },
  {
   "cell_type": "code",
   "execution_count": 24,
   "id": "d2112578-2c8d-44e1-9706-2d82cf93d8bd",
   "metadata": {
    "execution": {
     "iopub.execute_input": "2024-08-28T08:17:31.264013Z",
     "iopub.status.busy": "2024-08-28T08:17:31.263923Z",
     "iopub.status.idle": "2024-08-28T08:17:31.266829Z",
     "shell.execute_reply": "2024-08-28T08:17:31.266482Z",
     "shell.execute_reply.started": "2024-08-28T08:17:31.264001Z"
    }
   },
   "outputs": [
    {
     "data": {
      "text/plain": [
       "'Yes'"
      ]
     },
     "execution_count": 24,
     "metadata": {},
     "output_type": "execute_result"
    }
   ],
   "source": [
    "result"
   ]
  },
  {
   "cell_type": "markdown",
   "id": "41112da1-433d-417e-8723-0663a7f6f1fa",
   "metadata": {},
   "source": [
    "## Test 5 Captioner"
   ]
  },
  {
   "cell_type": "code",
   "execution_count": 25,
   "id": "139b89fe-5669-4c1c-a9a0-7e22f93e1688",
   "metadata": {
    "execution": {
     "iopub.execute_input": "2024-08-28T08:17:31.267310Z",
     "iopub.status.busy": "2024-08-28T08:17:31.267227Z",
     "iopub.status.idle": "2024-08-28T08:17:45.218976Z",
     "shell.execute_reply": "2024-08-28T08:17:45.218467Z",
     "shell.execute_reply.started": "2024-08-28T08:17:31.267299Z"
    }
   },
   "outputs": [
    {
     "name": "stdout",
     "output_type": "stream",
     "text": [
      "conversation mode: llama3\n",
      "model name: /home/pop/hosting/medical/med-model/LLaVA-Med-Captioner/llava-llama-med-8b-captioner\n",
      "vision_tower openai/clip-vit-large-patch14-336, is_absolute_path_exists: False, load_delay: True\n",
      "delay load: True\n",
      "delay load and just load the config, is_loaded: False\n"
     ]
    },
    {
     "name": "stderr",
     "output_type": "stream",
     "text": [
      "Loading checkpoint shards: 100%|█████████████████████████████████████████████████████████████████████████████████████████████████| 4/4 [00:05<00:00,  1.43s/it]\n"
     ]
    },
    {
     "name": "stdout",
     "output_type": "stream",
     "text": [
      "Adding pad token as '<pad>'\n",
      "tokenizer's pad token id is:  128256\n",
      "[WARNING] the auto inferred conversation mode is llava_v0, while `--conv-mode` is llama3, using llama3\n",
      "CPU times: user 26.3 s, sys: 12.2 s, total: 38.5 s\n",
      "Wall time: 13.9 s\n"
     ]
    }
   ],
   "source": [
    "%%time\n",
    "from dataclasses import dataclass\n",
    "from PIL import Image\n",
    "\n",
    "@dataclass\n",
    "class Inputs():\n",
    "    model_path: str = \"/home/pop/hosting/medical/med-model/LLaVA-Med-Captioner/llava-llama-med-8b-captioner\"    \n",
    "    #model_path: str = \"/home/pop/hosting/medical/med-model/llava-llama-med-8b-stage2-finetuned-vga_rad_orift_20240817\"\n",
    "    model_base: int = None\n",
    "    #image_file:str = \"https://www.topdoctors.co.uk/files/Image/large/5a536fd0-0d70-4b1d-be00-3c8e25bbab96.jpg\"\n",
    "    image_file: str = \"med_test_2000.png\"    \n",
    "    #query: str = \"What Do Chest X-Rays Show?\"\n",
    "    query: str = \"Give me detailed description of the image, based on coarse caption, lesion region, medical knowledge\"    \n",
    "    conv_mode: str = \"llama3\"\n",
    "    sep: str = \",\"\n",
    "    temperature: float = 1.0\n",
    "    top_p:int = None\n",
    "    num_beams: int = 1\n",
    "    max_new_tokens: int = 1024\n",
    "    \n",
    "args = Inputs()\n",
    "print(f\"conversation mode: {args.conv_mode}\")\n",
    "print(f\"model name: {args.model_path}\")\n",
    "    \n",
    "result = eval_model(args)"
   ]
  },
  {
   "cell_type": "code",
   "execution_count": 31,
   "id": "5e611f74-32a6-412a-bb73-082a29fc0b7c",
   "metadata": {
    "execution": {
     "iopub.execute_input": "2024-08-28T08:18:59.390478Z",
     "iopub.status.busy": "2024-08-28T08:18:59.390350Z",
     "iopub.status.idle": "2024-08-28T08:18:59.393067Z",
     "shell.execute_reply": "2024-08-28T08:18:59.392585Z",
     "shell.execute_reply.started": "2024-08-28T08:18:59.390465Z"
    }
   },
   "outputs": [
    {
     "name": "stdout",
     "output_type": "stream",
     "text": [
      "None\n"
     ]
    }
   ],
   "source": [
    "print(result)"
   ]
  },
  {
   "cell_type": "code",
   "execution_count": null,
   "id": "c6ecca2c-ffbf-47d4-8616-fb97d967a601",
   "metadata": {},
   "outputs": [],
   "source": []
  },
  {
   "cell_type": "markdown",
   "id": "b3820fa8-5041-4add-9114-af34f209520d",
   "metadata": {},
   "source": [
    "## Test 6 Slake"
   ]
  },
  {
   "cell_type": "code",
   "execution_count": 40,
   "id": "16a8e17d-8040-44d0-b352-b93b904bc131",
   "metadata": {
    "execution": {
     "iopub.execute_input": "2024-08-28T08:33:04.636959Z",
     "iopub.status.busy": "2024-08-28T08:33:04.636809Z",
     "iopub.status.idle": "2024-08-28T08:33:13.049416Z",
     "shell.execute_reply": "2024-08-28T08:33:13.049055Z",
     "shell.execute_reply.started": "2024-08-28T08:33:04.636943Z"
    }
   },
   "outputs": [
    {
     "name": "stdout",
     "output_type": "stream",
     "text": [
      "conversation mode: llama3\n",
      "model name: /home/pop/hosting/medical/med-model/llava-llama-med-8b-stage2-finetune-slake_orift\n",
      "vision_tower openai/clip-vit-large-patch14-336, is_absolute_path_exists: False, load_delay: True\n",
      "delay load: True\n",
      "delay load and just load the config, is_loaded: False\n"
     ]
    },
    {
     "name": "stderr",
     "output_type": "stream",
     "text": [
      "Loading checkpoint shards: 100%|█████████████████████████████████████████████████████████████████████████████████████████████████| 4/4 [00:03<00:00,  1.19it/s]\n"
     ]
    },
    {
     "name": "stdout",
     "output_type": "stream",
     "text": [
      "Adding pad token as '<pad>'\n",
      "tokenizer's pad token id is:  128256\n",
      "[WARNING] the auto inferred conversation mode is llava_v0, while `--conv-mode` is llama3, using llama3\n",
      "CPU times: user 15.5 s, sys: 11.5 s, total: 27 s\n",
      "Wall time: 8.41 s\n"
     ]
    }
   ],
   "source": [
    "%%time\n",
    "from dataclasses import dataclass\n",
    "from PIL import Image\n",
    "\n",
    "@dataclass\n",
    "class Inputs():\n",
    "    model_path: str = \"/home/pop/hosting/medical/med-model/llava-llama-med-8b-stage2-finetune-slake_orift\"    \n",
    "    #model_path: str = \"/home/pop/hosting/medical/med-model/llava-llama-med-8b-stage2-finetuned-vga_rad_orift_20240817\"\n",
    "    model_base: int = None\n",
    "    image_file:str = \"https://www.topdoctors.co.uk/files/Image/large/5a536fd0-0d70-4b1d-be00-3c8e25bbab96.jpg\"\n",
    "    #image_file: str = \"med_test_2000.png\"    \n",
    "    #query: str = \"What Do Chest X-Rays Show?\"\n",
    "    query: str = \"provide a detail description for this photo without interpretations\"    \n",
    "    conv_mode: str = \"llama3\"\n",
    "    sep: str = \",\"\n",
    "    temperature: float = 1.0\n",
    "    top_p:int = None\n",
    "    num_beams: int = 1\n",
    "    max_new_tokens: int = 1024\n",
    "    \n",
    "args = Inputs()\n",
    "print(f\"conversation mode: {args.conv_mode}\")\n",
    "print(f\"model name: {args.model_path}\")\n",
    "    \n",
    "result = eval_model(args)"
   ]
  },
  {
   "cell_type": "code",
   "execution_count": 41,
   "id": "63e6b297-1989-45ff-96e6-84c14d5a4e25",
   "metadata": {
    "execution": {
     "iopub.execute_input": "2024-08-28T08:33:18.466527Z",
     "iopub.status.busy": "2024-08-28T08:33:18.466304Z",
     "iopub.status.idle": "2024-08-28T08:33:18.470794Z",
     "shell.execute_reply": "2024-08-28T08:33:18.470261Z",
     "shell.execute_reply.started": "2024-08-28T08:33:18.466501Z"
    }
   },
   "outputs": [
    {
     "data": {
      "text/plain": [
       "'X-Ray'"
      ]
     },
     "execution_count": 41,
     "metadata": {},
     "output_type": "execute_result"
    }
   ],
   "source": [
    "result"
   ]
  },
  {
   "cell_type": "markdown",
   "id": "945546fb-8b88-4381-963d-e24204ad9c81",
   "metadata": {},
   "source": [
    "## Test 7 Default"
   ]
  },
  {
   "cell_type": "code",
   "execution_count": 5,
   "id": "16ac33ed-50d1-4211-83bf-000eb76ab58b",
   "metadata": {
    "execution": {
     "iopub.execute_input": "2024-08-28T08:49:17.186839Z",
     "iopub.status.busy": "2024-08-28T08:49:17.186616Z",
     "iopub.status.idle": "2024-08-28T08:50:32.665740Z",
     "shell.execute_reply": "2024-08-28T08:50:32.665303Z",
     "shell.execute_reply.started": "2024-08-28T08:49:17.186813Z"
    }
   },
   "outputs": [
    {
     "name": "stdout",
     "output_type": "stream",
     "text": [
      "conversation mode: llama3\n",
      "model name: /home/pop/hosting/medical/med-model/LLaVA-Meta-Llama-3-8B-Instruct-FT-S2\n",
      "vision_tower openai/clip-vit-large-patch14-336, is_absolute_path_exists: False, load_delay: True\n",
      "delay load: True\n",
      "delay load and just load the config, is_loaded: False\n"
     ]
    },
    {
     "name": "stderr",
     "output_type": "stream",
     "text": [
      "Loading checkpoint shards: 100%|█████████████████████████████████████████████████████████████████████████████████████████████████| 4/4 [00:03<00:00,  1.08it/s]\n"
     ]
    },
    {
     "name": "stdout",
     "output_type": "stream",
     "text": [
      "Adding pad token as '<pad>'\n",
      "tokenizer's pad token id is:  128256\n",
      "[WARNING] the auto inferred conversation mode is llava_v0, while `--conv-mode` is llama3, using llama3\n",
      "CPU times: user 1min 32s, sys: 20.8 s, total: 1min 53s\n",
      "Wall time: 1min 15s\n"
     ]
    },
    {
     "data": {
      "text/plain": [
       "\"The image features an X-ray of a person's chest area, showing the individual's rib cage and the organs surrounding it. The x-ray clearly highlights the rib cage, which consists of numerous bones covering the chest area. This detailed structure view provides insight into the human anatomy and can be helpful for medical purposes.\""
      ]
     },
     "execution_count": 5,
     "metadata": {},
     "output_type": "execute_result"
    }
   ],
   "source": [
    "%%time\n",
    "from dataclasses import dataclass\n",
    "from PIL import Image\n",
    "\n",
    "@dataclass\n",
    "class Inputs():\n",
    "    model_path: str = \"/home/pop/hosting/medical/med-model/LLaVA-Meta-Llama-3-8B-Instruct-FT-S2\"    \n",
    "    model_base: int = None\n",
    "    image_file:str = \"https://www.topdoctors.co.uk/files/Image/large/5a536fd0-0d70-4b1d-be00-3c8e25bbab96.jpg\"\n",
    "    #image_file: str = \"med_test_2000.png\"    \n",
    "    #query: str = \"What Do Chest X-Rays Show?\"\n",
    "    query: str = \"provide a detail description for this photo without interpretations\"    \n",
    "    conv_mode: str = \"llama3\"\n",
    "    sep: str = \",\"\n",
    "    temperature: float = 1.0\n",
    "    top_p:int = None\n",
    "    num_beams: int = 1\n",
    "    max_new_tokens: int = 1024\n",
    "    \n",
    "args = Inputs()\n",
    "print(f\"conversation mode: {args.conv_mode}\")\n",
    "print(f\"model name: {args.model_path}\")\n",
    "    \n",
    "result = eval_model(args)\n",
    "result"
   ]
  },
  {
   "cell_type": "code",
   "execution_count": 30,
   "id": "451917db-a642-4a93-b5a2-19875eaa3b8b",
   "metadata": {
    "execution": {
     "iopub.execute_input": "2024-08-28T08:17:52.551314Z",
     "iopub.status.busy": "2024-08-28T08:17:52.551223Z",
     "iopub.status.idle": "2024-08-28T08:17:52.553143Z",
     "shell.execute_reply": "2024-08-28T08:17:52.552854Z",
     "shell.execute_reply.started": "2024-08-28T08:17:52.551302Z"
    }
   },
   "outputs": [],
   "source": [
    "#cd MedTrinity-25M\n",
    "#!bash ./scripts/med/llava3_med_eval_batch_vqa_rad.sh"
   ]
  },
  {
   "cell_type": "code",
   "execution_count": 6,
   "id": "51d5131b-13e8-48a0-a855-10b0989a053b",
   "metadata": {
    "execution": {
     "iopub.execute_input": "2024-08-28T08:50:32.666580Z",
     "iopub.status.busy": "2024-08-28T08:50:32.666494Z",
     "iopub.status.idle": "2024-08-28T08:50:48.931547Z",
     "shell.execute_reply": "2024-08-28T08:50:48.931209Z",
     "shell.execute_reply.started": "2024-08-28T08:50:32.666568Z"
    }
   },
   "outputs": [
    {
     "name": "stdout",
     "output_type": "stream",
     "text": [
      "conversation mode: llama3\n",
      "model name: /home/pop/hosting/medical/med-model/LLaVA-Med-Captioner/llava-llama-med-8b-captioner\n",
      "vision_tower openai/clip-vit-large-patch14-336, is_absolute_path_exists: False, load_delay: True\n",
      "delay load: True\n",
      "delay load and just load the config, is_loaded: False\n"
     ]
    },
    {
     "name": "stderr",
     "output_type": "stream",
     "text": [
      "Loading checkpoint shards: 100%|█████████████████████████████████████████████████████████████████████████████████████████████████| 4/4 [00:07<00:00,  1.89s/it]\n"
     ]
    },
    {
     "name": "stdout",
     "output_type": "stream",
     "text": [
      "Adding pad token as '<pad>'\n",
      "tokenizer's pad token id is:  128256\n",
      "[WARNING] the auto inferred conversation mode is llava_v0, while `--conv-mode` is llama3, using llama3\n",
      "CPU times: user 53.4 s, sys: 18 s, total: 1min 11s\n",
      "Wall time: 16.3 s\n"
     ]
    },
    {
     "data": {
      "text/plain": [
       "'The image is a chest X-ray showing the heart, diaphragm, and the majority of the lungs. A region of interest is located at left-center part of the image horizontally and middle part of image vertically, occupying approximately 24.7% of the total area. The heart is located centrally and slightly to the left, with the diaphragm beneath it. The lungs are the primary organs visible, with the left lung appearing on the right side of the image and the right lung on the left side due to the perspective of the X-ray. There are no medical lesions visible in the image.\\n\\nThe region of interest, indicated by the annotation, is located within the right lung and appears as an area with abnormal texture and possibly altered density compared to the surrounding lung tissue. This could suggest the presence of a pathological condition such as a mass, consolidation, or other lung lesion.\\n\\nThe abnormal region within the right lung may be related to the surrounding lung tissue in terms of its impact on lung function or its potential to affect adjacent structures. It is possible that the lesion could be causing a local effect on the lung parenchyma or could be indicative of a more widespread pulmonary condition.\\n\\nIn summary, the chest X-ray reveals an abnormal area within the right lung, which may have implications for lung function and could be related to or affect adjacent structures within the lung.'"
      ]
     },
     "execution_count": 6,
     "metadata": {},
     "output_type": "execute_result"
    }
   ],
   "source": [
    "%%time\n",
    "from dataclasses import dataclass\n",
    "from PIL import Image\n",
    "\n",
    "@dataclass\n",
    "class Inputs():\n",
    "    model_path: str = \"/home/pop/hosting/medical/med-model/LLaVA-Med-Captioner/llava-llama-med-8b-captioner\"    \n",
    "    #model_path: str = \"/home/pop/hosting/medical/med-model/llava-llama-med-8b-stage2-finetuned-vga_rad_orift_20240817\"\n",
    "    model_base: int = None\n",
    "    image_file:str = \"https://www.topdoctors.co.uk/files/Image/large/5a536fd0-0d70-4b1d-be00-3c8e25bbab96.jpg\"\n",
    "    #query: str = \"What Do Chest X-Rays Show?\"\n",
    "    query: str = \"Give me detailed description of the image, based on coarse caption, lesion region, medical knowledge\"    \n",
    "    conv_mode: str = \"llama3\"\n",
    "    sep: str = \",\"\n",
    "    temperature: float = 1.0\n",
    "    top_p:int = None\n",
    "    num_beams: int = 1\n",
    "    max_new_tokens: int = 1024\n",
    "    \n",
    "args = Inputs()\n",
    "print(f\"conversation mode: {args.conv_mode}\")\n",
    "print(f\"model name: {args.model_path}\")\n",
    "    \n",
    "result = eval_model(args)\n",
    "result"
   ]
  },
  {
   "cell_type": "code",
   "execution_count": null,
   "id": "8724203b-8d26-444b-ba00-dc2d576813bc",
   "metadata": {},
   "outputs": [],
   "source": []
  }
 ],
 "metadata": {
  "kernelspec": {
   "display_name": "Python 3 (ipykernel)",
   "language": "python",
   "name": "python3"
  },
  "language_info": {
   "codemirror_mode": {
    "name": "ipython",
    "version": 3
   },
   "file_extension": ".py",
   "mimetype": "text/x-python",
   "name": "python",
   "nbconvert_exporter": "python",
   "pygments_lexer": "ipython3",
   "version": "3.10.14"
  }
 },
 "nbformat": 4,
 "nbformat_minor": 5
}
